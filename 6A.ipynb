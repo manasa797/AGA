{
  "nbformat": 4,
  "nbformat_minor": 0,
  "metadata": {
    "colab": {
      "provenance": []
    },
    "kernelspec": {
      "name": "python3",
      "display_name": "Python 3"
    },
    "language_info": {
      "name": "python"
    }
  },
  "cells": [
    {
      "cell_type": "code",
      "execution_count": null,
      "metadata": {
        "id": "_7N62P8nlZLh"
      },
      "outputs": [],
      "source": [
        "import tensorflow as tf\n",
        "import matplotlib.pyplot as plt\n",
        "\n",
        "# Load MNIST dataset\n",
        "(x_train, y_train), (x_test, y_test) = tf.keras.datasets.mnist.load_data()\n",
        "\n",
        "# Normalize and reshape\n",
        "x_train = x_train / 255.0\n",
        "x_test = x_test / 255.0\n",
        "\n",
        "# Build the model\n",
        "model = tf.keras.Sequential([\n",
        "    tf.keras.layers.Flatten(input_shape=(28, 28)),        # Flatten image\n",
        "    tf.keras.layers.Dense(256, activation='relu'),        # Hidden layer 1\n",
        "    tf.keras.layers.Dense(128, activation='relu'),        # Hidden layer 2\n",
        "    tf.keras.layers.Dense(10)                             # Output layer (logits)\n",
        "])\n",
        "\n",
        "# Compile the model\n",
        "model.compile(optimizer='adam',\n",
        "              loss=tf.keras.losses.SparseCategoricalCrossentropy(from_logits=True),\n",
        "              metrics=['accuracy'])\n",
        "\n",
        "# Train the model\n",
        "print(\"Training...\")\n",
        "model.fit(x_train, y_train, epochs=5, batch_size=64)\n",
        "\n",
        "# Evaluate\n",
        "test_loss, test_acc = model.evaluate(x_test, y_test)\n",
        "print(f\"\\nTest Accuracy: {test_acc * 100:.2f}%\")\n",
        "\n",
        "# Predict and display 5 test images\n",
        "logits = model.predict(x_test[:5])\n",
        "predictions = tf.argmax(logits, axis=1)\n",
        "\n",
        "for i in range(5):\n",
        "    plt.imshow(x_test[i], cmap='gray')\n",
        "    plt.title(f\"Predicted: {predictions[i].numpy()}, Actual: {y_test[i]}\")\n",
        "    plt.axis('off')\n",
        "    plt.show()\n"
      ]
    }
  ]
}