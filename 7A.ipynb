{
  "nbformat": 4,
  "nbformat_minor": 0,
  "metadata": {
    "colab": {
      "provenance": []
    },
    "kernelspec": {
      "name": "python3",
      "display_name": "Python 3"
    },
    "language_info": {
      "name": "python"
    }
  },
  "cells": [
    {
      "cell_type": "code",
      "execution_count": null,
      "metadata": {
        "id": "xvju01n1lkA5"
      },
      "outputs": [],
      "source": [
        "import numpy as np\n",
        "\n",
        "# Sigmoid activation\n",
        "def sigmoid(x):\n",
        "  return 1 / (1 + np.exp(-x))\n",
        "\n",
        "# Sampling binary units based on probabilities\n",
        "def sample(prob):\n",
        "  return np.random.binomial(1, prob)\n",
        "\n",
        "# Sampling function for a layer\n",
        "def sample_layer(input_data, weights, bias):\n",
        "  activation = np.dot(input_data, weights) + bias\n",
        "  prob = sigmoid(activation)\n",
        "  return sample(prob), prob\n",
        "\n",
        "# One training step for a simplified DBM\n",
        "def dbm_step(v0, W1, b1, W2, b2, lr=0.01):\n",
        "  # ======== UPWARD PASS ========\n",
        "  h1, h1_prob = sample_layer(v0, W1, b1) # From visible to hidden1\n",
        "  h2, h2_prob = sample_layer(h1, W2, b2) # From hidden1 to hidden2\n",
        "  # ======== DOWNWARD PASS (Reconstruction) ========\n",
        "  h1_down, _ = sample_layer(h2, W2.T, np.zeros_like(b1)) # Reconstruct hidden1\n",
        "  v1, _ = sample_layer(h1_down, W1.T, np.zeros_like(v0)) # Reconstruct visible\n",
        "  # ======== WEIGHT & BIAS UPDATES (Contrastive Divergence-like) ========\n",
        "  # Positive phase\n",
        "  pos_W1 = np.outer(v0, h1)\n",
        "  pos_W2 = np.outer(h1, h2)\n",
        "\n",
        "  # Negative phase\n",
        "  neg_W1 = np.outer(v1, h1_down)\n",
        "  neg_W2 = np.outer(h1_down, h2)\n",
        "\n",
        "  # Update weights and biases\n",
        "  W1 += lr * (pos_W1 - neg_W1)\n",
        "  W2 += lr * (pos_W2 - neg_W2)\n",
        "  b1 += lr * (h1 - h1_down)\n",
        "  b2 += lr * (h2 - h2_prob)\n",
        "  return W1, b1, W2, b2\n",
        "\n",
        "# ======== INITIALIZATION ========\n",
        "np.random.seed(42) # For reproducibility\n",
        "v0 = np.array([1, 0, 1, 0]) # 4 visible units (input)\n",
        "W1 = np.random.randn(4, 3) * 0.1 # 4 ↔ 3 weights (visible ↔ hidden1)\n",
        "b1 = np.zeros(3)\n",
        "W2 = np.random.randn(3, 2) * 0.1 # 3 ↔ 2 weights (hidden1 ↔ hidden2)\n",
        "b2 = np.zeros(2)\n",
        "\n",
        "# ======== TRAINING STEP ========\n",
        "W1, b1, W2, b2 = dbm_step(v0, W1, b1, W2, b2)\n",
        "\n",
        "# ======== OUTPUT ========\n",
        "print(\"Updated W1 (v ↔ h1):\\n\", W1)\n",
        "print(\"Updated b1 (h1):\", b1)\n",
        "print(\"Updated W2 (h1 ↔ h2):\\n\", W2)\n",
        "print(\"Updated b2 (h2):\", b2)"
      ]
    }
  ]
}