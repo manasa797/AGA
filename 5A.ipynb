{
  "nbformat": 4,
  "nbformat_minor": 0,
  "metadata": {
    "colab": {
      "provenance": []
    },
    "kernelspec": {
      "name": "python3",
      "display_name": "Python 3"
    },
    "language_info": {
      "name": "python"
    }
  },
  "cells": [
    {
      "cell_type": "code",
      "execution_count": null,
      "metadata": {
        "id": "VpqV9dpRlQdL"
      },
      "outputs": [],
      "source": [
        "from sklearn.datasets import load_digits\n",
        "from sklearn.neural_network import BernoulliRBM\n",
        "from sklearn.linear_model import LogisticRegression\n",
        "from sklearn.pipeline import Pipeline\n",
        "from sklearn.model_selection import train_test_split\n",
        "from sklearn.metrics import classification_report\n",
        "import numpy as np\n",
        "\n",
        "# Load digit dataset\n",
        "digits = load_digits()\n",
        "X, y = digits.data, digits.target\n",
        "\n",
        "# Normalize to [0, 1]\n",
        "X = X / 16.0\n",
        "# Split dataset\n",
        "X_train, X_test, y_train, y_test = train_test_split(X, y, test_size=0.2, random_state=42)\n",
        "\n",
        "# Define RBMs\n",
        "# n_components:  number of hidden units (neurons) in the RBM\n",
        "# n_iter: number of training iterations (epochs).\n",
        "rbm1 = BernoulliRBM(n_components=64, learning_rate=0.06, n_iter=20, random_state=0)\n",
        "rbm2 = BernoulliRBM(n_components=32, learning_rate=0.06, n_iter=20, random_state=0)\n",
        "\n",
        "\n",
        "# Define classifier\n",
        "logistic = LogisticRegression(max_iter=1500)\n",
        "# Stack RBMs + classifier\n",
        "stacked_rbm = Pipeline(steps=[\n",
        "    ('rbm1', rbm1),\n",
        "     ('rbm2', rbm2),\n",
        "      ('logistic', logistic)\n",
        "])\n",
        "\n",
        "# Train the model\n",
        "stacked_rbm.fit(X_train, y_train)\n",
        "\n",
        "# Predict on test data\n",
        "y_pred = stacked_rbm.predict(X_test)\n",
        "\n",
        "# Print classification report\n",
        "print(\"\\n--- Classification Report ---\")\n",
        "print(classification_report(y_test, y_pred))\n",
        "\n",
        "# Print a comparison of actual vs predicted\n",
        "print(\"\\n--- Comparison of Actual vs Predicted (First 20 samples) ---\")\n",
        "\n",
        "for i in range(20):\n",
        "  print(f\"Sample {i+1}: Actual = {y_test[i]} | Predicted = {y_pred[i]}\")\n",
        "\n",
        "# Macro avg:\tAverage of all classes, giving equal weight to each class (good for imbalanced data).\n",
        "# Weighted avg:\tLike macro avg, but gives more importance to classes with more samples.s"
      ]
    }
  ]
}